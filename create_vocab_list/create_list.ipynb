{
 "cells": [
  {
   "cell_type": "code",
   "execution_count": 4,
   "metadata": {},
   "outputs": [],
   "source": [
    "import pickle\n",
    "\n",
    "vocab_list = []\n",
    "\n",
    "with open('extract_from_frequencylist.txt') as f:\n",
    "    german = ''\n",
    "    english = []\n",
    "    for line in f.readlines():\n",
    "        line = line.replace('\\n','')\n",
    "        if '. ' in line:\n",
    "            if german: \n",
    "                vocab_list.append((german, english))\n",
    "            german = line.split('. ')[1]\n",
    "            english = []\n",
    "        if 'â€¢ ' in line:\n",
    "            english.append(line[4:])\n",
    "    vocab_list.append((german, english))\n",
    "    pickle.dump( vocab_list, open( \"../vocab_list/german_english.pvl\", \"wb\" ) )\n"
   ]
  },
  {
   "cell_type": "code",
   "execution_count": null,
   "metadata": {},
   "outputs": [],
   "source": []
  }
 ],
 "metadata": {
  "kernelspec": {
   "display_name": "base",
   "language": "python",
   "name": "python3"
  },
  "language_info": {
   "codemirror_mode": {
    "name": "ipython",
    "version": 3
   },
   "file_extension": ".py",
   "mimetype": "text/x-python",
   "name": "python",
   "nbconvert_exporter": "python",
   "pygments_lexer": "ipython3",
   "version": "3.9.7"
  },
  "orig_nbformat": 4,
  "vscode": {
   "interpreter": {
    "hash": "486c8876112066cf6f22825acff1238ecf8b2473a3928c8b128a8830c906617c"
   }
  }
 },
 "nbformat": 4,
 "nbformat_minor": 2
}
